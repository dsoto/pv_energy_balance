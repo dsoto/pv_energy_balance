{
 "metadata": {
  "name": ""
 },
 "nbformat": 3,
 "nbformat_minor": 0,
 "worksheets": [
  {
   "cells": [
    {
     "cell_type": "markdown",
     "metadata": {},
     "source": [
      "# Figures\n",
      "\n",
      "This notebook runs the code for a few subset of the simulations included in the GHTC 2012 paper and outputs either a latex ready table or a figure."
     ]
    },
    {
     "cell_type": "code",
     "collapsed": false,
     "input": [
      "%pylab inline\n",
      "%load_ext autoreload\n",
      "%autoreload 2\n",
      "import sys\n",
      "sys.path.append('../src')\n",
      "import simulation as sim\n",
      "import pandas as p\n",
      "import datetime as dt"
     ],
     "language": "python",
     "metadata": {},
     "outputs": [
      {
       "output_type": "stream",
       "stream": "stdout",
       "text": [
        "Populating the interactive namespace from numpy and matplotlib\n"
       ]
      },
      {
       "output_type": "stream",
       "stream": "stderr",
       "text": [
        "/Users/dsoto/anaconda/envs/py33/lib/python3.3/site-packages/pandas/core/daterange.py:23: FutureWarning: DateRange is deprecated, use DatetimeIndex instead\n",
        "  FutureWarning)\n"
       ]
      }
     ],
     "prompt_number": 1
    },
    {
     "cell_type": "code",
     "collapsed": false,
     "input": [
      "lead_dict = {'type' : 'lead acid',\n",
      "             'cost' : 0.14,\n",
      "             'battery_efficiency_curve' : {'output_power':[0, 1000],\n",
      "                                           'efficiency':[0.75,   0.75]},\n",
      "             'DOD' : 0.5,\n",
      "             'life' : 2\n",
      "             }\n",
      "\n",
      "lith_dict = {'type' : 'LFP',\n",
      "             'cost' : 1,\n",
      "             'battery_efficiency_curve' : {'output_power':[0, 1000],\n",
      "                                           'efficiency':[0.95,   0.95]},\n",
      "             'DOD' : 1.0,\n",
      "             'life' : 6\n",
      "             }\n",
      "\n",
      "pbc_dict = {'type' : 'lead carbon',\n",
      "             'cost' : 0.14,\n",
      "             'battery_efficiency_curve' : {'output_power':[0, 1000],\n",
      "                                           'efficiency':[0.75,   0.75]},\n",
      "             'DOD' : 0.5,\n",
      "             'life' : 6\n",
      "             }\n",
      "\n",
      "def print_metadata():\n",
      "    gitrev = !git rev-parse HEAD\n",
      "    print('% git rev ' + gitrev[0][:6])\n",
      "    path = !pwd\n",
      "    print('% code path ' + path[0])\n",
      "\n",
      "# runs a batch of simulations and returns data frame of results\n",
      "def run_sims(load_list=[], battery_list=[], inverter_list=[], plot=False, verbose=False):\n",
      "    output = []\n",
      "    #print_metadata()\n",
      "    for load in load_list:\n",
      "        for battery in battery_list:\n",
      "            for inverter in inverter_list:\n",
      "                d = sim.run_simulation(battery, \n",
      "                                       inverter_type=inverter, \n",
      "                                       load_type=load, \n",
      "                                       plot=plot, \n",
      "                                       verbose=verbose)\n",
      "                output.append(d)\n",
      "    df = p.DataFrame(output)\n",
      "    return df\n",
      "\n",
      "all_loads = ['day', 'night', 'continuous']"
     ],
     "language": "python",
     "metadata": {},
     "outputs": [],
     "prompt_number": 2
    },
    {
     "cell_type": "markdown",
     "metadata": {},
     "source": [
      "## Table with baseline system\n",
      "\n",
      "This shows the differences of necessary capacity for the same load with different time of day profiles."
     ]
    },
    {
     "cell_type": "code",
     "collapsed": false,
     "input": [
      "# table 2\n",
      "print('% table 2')\n",
      "#print '%', dt.datetime.now()\n",
      "df2 = run_sims(load_list=all_loads, \n",
      "               battery_list=[lead_dict], \n",
      "               inverter_list=['typical'])"
     ],
     "language": "python",
     "metadata": {},
     "outputs": [
      {
       "output_type": "stream",
       "stream": "stdout",
       "text": [
        "% table 2\n",
        "typical day lead acid         "
       ]
      },
      {
       "output_type": "stream",
       "stream": "stdout",
       "text": [
        "&0.59&0.76&1306&595\\\\\n",
        "typical night lead acid       "
       ]
      },
      {
       "output_type": "stream",
       "stream": "stdout",
       "text": [
        "&0.74&4.92&8421&738\\\\\n",
        "typical continuous lead acid  "
       ]
      },
      {
       "output_type": "stream",
       "stream": "stdout",
       "text": [
        "&0.70&3.08&5281&704\\\\\n"
       ]
      }
     ],
     "prompt_number": 3
    },
    {
     "cell_type": "code",
     "collapsed": false,
     "input": [
      "# normalize to per kWh costs\n",
      "levelized_kWh_sold = 11600.45\n",
      "df2['battery_npv'] /= levelized_kWh_sold\n",
      "df2['panel_cost'] /= levelized_kWh_sold\n",
      "\n",
      "# set index to load_type\n",
      "df2 = df2.set_index('load_type')\n",
      "\n",
      "# create stacked plot of panel cost and battery NPV\n",
      "df2[['battery_npv', 'panel_cost']].plot(kind='bar', stacked=True)\n",
      "ylabel('Cost(USD/kWh)')\n",
      "grid()\n"
     ],
     "language": "python",
     "metadata": {},
     "outputs": [
      {
       "metadata": {},
       "output_type": "display_data",
       "png": "[encoded data removed]",
       "text": [
        "<matplotlib.figure.Figure at 0x1082e0910>"
       ]
      }
     ],
     "prompt_number": 4
    },
    {
     "cell_type": "markdown",
     "metadata": {},
     "source": [
      "## Table with costs for improved inverter\n",
      "\n"
     ]
    },
    {
     "cell_type": "code",
     "collapsed": false,
     "input": [
      "# table inverter\n",
      "print('% table_inverter')\n",
      "#print '%', dt.datetime.now()\n",
      "dfi = run_sims(load_list=all_loads,\n",
      "               battery_list=[lead_dict],\n",
      "               inverter_list=['flat', 'typical'])\n",
      "\n",
      "# this table no longer reflects the one in the publication"
     ],
     "language": "python",
     "metadata": {},
     "outputs": [
      {
       "output_type": "stream",
       "stream": "stdout",
       "text": [
        "% table_inverter\n",
        "flat day lead acid            "
       ]
      },
      {
       "output_type": "stream",
       "stream": "stdout",
       "text": [
        "&0.50&0.88&1509&498\\\\\n",
        "typical day lead acid         "
       ]
      },
      {
       "output_type": "stream",
       "stream": "stdout",
       "text": [
        "&0.59&0.76&1306&595\\\\\n",
        "flat night lead acid          "
       ]
      },
      {
       "output_type": "stream",
       "stream": "stdout",
       "text": [
        "&0.62&4.26&7289&621\\\\\n",
        "typical night lead acid       "
       ]
      },
      {
       "output_type": "stream",
       "stream": "stdout",
       "text": [
        "&0.74&4.92&8421&738\\\\\n",
        "flat continuous lead acid     "
       ]
      },
      {
       "output_type": "stream",
       "stream": "stdout",
       "text": [
        "&0.53&2.33&3993&532\\\\\n",
        "typical continuous lead acid  "
       ]
      },
      {
       "output_type": "stream",
       "stream": "stdout",
       "text": [
        "&0.70&3.08&5281&704\\\\\n"
       ]
      }
     ],
     "prompt_number": 5
    },
    {
     "cell_type": "markdown",
     "metadata": {},
     "source": [
      "## Figure with comparison of inverter and baseline total costs\n",
      "\n",
      "The levelized cost of electricity for the typical and flat inverters is calculated by adding the panel cost and the NPV of a stream of battery payments and then dividing by the discounted number of kWh sold."
     ]
    },
    {
     "cell_type": "code",
     "collapsed": false,
     "input": [
      "# calculate levelized cost of energy for everybody\n",
      "dfi['LCOE'] = (dfi['battery_npv'] + dfi['panel_cost']) / levelized_kWh_sold\n",
      "\n",
      "# pivot table \n",
      "dfp = dfi.pivot(index='load_type', columns='inverter_type', values='LCOE')\n",
      "\n",
      "dfp.plot(kind='bar')\n",
      "ylabel('Cost(USD/kWh)')\n",
      "grid()\n",
      "#savefig('ipynb_inverter.pdf')"
     ],
     "language": "python",
     "metadata": {},
     "outputs": [
      {
       "metadata": {},
       "output_type": "display_data",
       "png": "[encoded data removed]",
       "text": [
        "<matplotlib.figure.Figure at 0x10835a810>"
       ]
      }
     ],
     "prompt_number": 6
    },
    {
     "cell_type": "markdown",
     "metadata": {},
     "source": [
      "## Battery comparisons\n",
      "\n",
      "the data frame contains labels for the simulation features so that the data can be pivoted to give the easy-to-plot data frame we want."
     ]
    },
    {
     "cell_type": "code",
     "collapsed": false,
     "input": [
      "# table battery\n",
      "print('% table_5_battery')\n",
      "#print '%', dt.datetime.now()\n",
      "df5 = run_sims(load_list=all_loads,\n",
      "               battery_list = [lead_dict, lith_dict, pbc_dict],\n",
      "               inverter_list=['typical'])"
     ],
     "language": "python",
     "metadata": {},
     "outputs": [
      {
       "output_type": "stream",
       "stream": "stdout",
       "text": [
        "% table_5_battery\n",
        "typical day lead acid         "
       ]
      },
      {
       "output_type": "stream",
       "stream": "stdout",
       "text": [
        "&0.59&0.76&1306&595\\\\\n",
        "typical day LFP               "
       ]
      },
      {
       "output_type": "stream",
       "stream": "stdout",
       "text": [
        "&0.57&0.76&1824&566\\\\\n",
        "typical day lead carbon       "
       ]
      },
      {
       "output_type": "stream",
       "stream": "stdout",
       "text": [
        "&0.59&0.76&514&595\\\\\n",
        "typical night lead acid       "
       ]
      },
      {
       "output_type": "stream",
       "stream": "stdout",
       "text": [
        "&0.74&4.92&8421&738\\\\\n",
        "typical night LFP             "
       ]
      },
      {
       "output_type": "stream",
       "stream": "stdout",
       "text": [
        "&0.59&3.88&9338&587\\\\\n",
        "typical night lead carbon     "
       ]
      },
      {
       "output_type": "stream",
       "stream": "stdout",
       "text": [
        "&0.74&4.92&3312&738\\\\\n",
        "typical continuous lead acid  "
       ]
      },
      {
       "output_type": "stream",
       "stream": "stdout",
       "text": [
        "&0.70&3.08&5281&704\\\\\n",
        "typical continuous LFP        "
       ]
      },
      {
       "output_type": "stream",
       "stream": "stdout",
       "text": [
        "&0.61&2.46&5931&609\\\\\n",
        "typical continuous lead carbon"
       ]
      },
      {
       "output_type": "stream",
       "stream": "stdout",
       "text": [
        "&0.70&3.08&2077&704\\\\\n"
       ]
      },
      {
       "output_type": "stream",
       "stream": "stderr",
       "text": [
        "/Users/dsoto/anaconda/envs/py33/lib/python3.3/site-packages/scipy/optimize/minpack.py:227: RuntimeWarning: The iteration is not making good progress, as measured by the \n",
        "  improvement from the last ten iterations.\n",
        "  warnings.warn(msg, RuntimeWarning)\n"
       ]
      }
     ],
     "prompt_number": 7
    },
    {
     "cell_type": "code",
     "collapsed": false,
     "input": [
      "# calculate levelized cost of energy for everybody\n",
      "df5['LCOE'] = (df5['battery_npv'] + df5['panel_cost']) / levelized_kWh_sold\n",
      "\n",
      "# pivot table \n",
      "dfp = df5.pivot(index='load_type', columns='battery_type', values='LCOE')\n",
      "\n",
      "# plot it up\n",
      "dfp.plot(kind='bar')\n",
      "grid()\n",
      "ylabel('Cost (USD/kWh)')"
     ],
     "language": "python",
     "metadata": {},
     "outputs": [
      {
       "metadata": {},
       "output_type": "pyout",
       "prompt_number": 8,
       "text": [
        "<matplotlib.text.Text at 0x102b31710>"
       ]
      },
      {
       "metadata": {},
       "output_type": "display_data",
       "png": "[encoded data removed]",
       "text": [
        "<matplotlib.figure.Figure at 0x10832ed10>"
       ]
      }
     ],
     "prompt_number": 8
    }
   ],
   "metadata": {}
  }
 ]
}